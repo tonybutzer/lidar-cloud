{
 "cells": [
  {
   "cell_type": "code",
   "execution_count": 1,
   "id": "ebc20d42",
   "metadata": {},
   "outputs": [
    {
     "name": "stdout",
     "output_type": "stream",
     "text": [
      "AK_Juneau_2012_000021.laz\r\n"
     ]
    }
   ],
   "source": [
    "! ls *.laz"
   ]
  },
  {
   "cell_type": "code",
   "execution_count": 2,
   "id": "0e85d1e0",
   "metadata": {},
   "outputs": [],
   "source": [
    "input_laz_path = 'AK_Juneau_2012_000021.laz'\n",
    "output_las_path = 'AK_Juneau_2012_000021.las'"
   ]
  },
  {
   "cell_type": "code",
   "execution_count": 5,
   "id": "d4e8fe1c",
   "metadata": {},
   "outputs": [
    {
     "name": "stdout",
     "output_type": "stream",
     "text": [
      "Collecting pylas[laszip,lazrs]\n",
      "  Downloading pylas-0.4.3.tar.gz (31 kB)\n",
      "\u001b[33mWARNING: pylas 0.4.3 does not provide the extra 'laszip'\u001b[0m\n",
      "Requirement already satisfied: numpy in /srv/conda/envs/pangeo/lib/python3.7/site-packages (from pylas[laszip,lazrs]) (1.21.0)\n",
      "Collecting lazrs<0.2.0,>=0.1.0\n",
      "  Downloading lazrs-0.1.1-cp37-cp37m-manylinux1_x86_64.whl (921 kB)\n",
      "\u001b[K     |████████████████████████████████| 921 kB 6.1 MB/s eta 0:00:01\n",
      "\u001b[?25hBuilding wheels for collected packages: pylas\n",
      "  Building wheel for pylas (setup.py) ... \u001b[?25ldone\n",
      "\u001b[?25h  Created wheel for pylas: filename=pylas-0.4.3-py3-none-any.whl size=40354 sha256=ae4d4320ac4ad3a3556c5b4a6d4b4c7fce99d8136b075bb02258286b9eb1745a\n",
      "  Stored in directory: /home/jovyan/.cache/pip/wheels/b2/af/a6/c8c7ce1b3dc27174d5524f6c9cca5df59974caca07534d4408\n",
      "Successfully built pylas\n",
      "Installing collected packages: pylas, lazrs\n",
      "Successfully installed lazrs-0.1.1 pylas-0.4.3\n"
     ]
    }
   ],
   "source": [
    "#! pip install --user pylas[lazrs,laszip]"
   ]
  },
  {
   "cell_type": "code",
   "execution_count": 6,
   "id": "d9bacd42",
   "metadata": {},
   "outputs": [],
   "source": [
    "import pylas\n",
    "laz = pylas.read(input_laz_path)"
   ]
  },
  {
   "cell_type": "code",
   "execution_count": 7,
   "id": "21677139",
   "metadata": {},
   "outputs": [],
   "source": [
    "las = pylas.convert(laz)"
   ]
  },
  {
   "cell_type": "code",
   "execution_count": 8,
   "id": "3cb5a437",
   "metadata": {},
   "outputs": [],
   "source": [
    "las.write(output_las_path)"
   ]
  },
  {
   "cell_type": "code",
   "execution_count": 10,
   "id": "9cae2367",
   "metadata": {},
   "outputs": [
    {
     "name": "stdout",
     "output_type": "stream",
     "text": [
      "-rw-r--r-- 1 jovyan 40006 13M Dec  8 15:20 AK_Juneau_2012_000021.las\r\n"
     ]
    }
   ],
   "source": [
    "!ls -lh *.las"
   ]
  },
  {
   "cell_type": "code",
   "execution_count": 11,
   "id": "4d068d18",
   "metadata": {},
   "outputs": [
    {
     "name": "stdout",
     "output_type": "stream",
     "text": [
      "-rw-r--r-- 1 jovyan 40006 1.6M Dec 19  2019 AK_Juneau_2012_000021.laz\r\n"
     ]
    }
   ],
   "source": [
    "!ls -lh *.laz"
   ]
  },
  {
   "cell_type": "markdown",
   "id": "3fac3829",
   "metadata": {},
   "source": [
    "# QGIS 3.18 has point cloud support\n",
    "\n",
    "# but the help desk installed QGIS 3.16 :-("
   ]
  },
  {
   "cell_type": "code",
   "execution_count": null,
   "id": "207cbe9b",
   "metadata": {},
   "outputs": [],
   "source": [
    "# import rasterio\n",
    "# from rasterio.features import shapes\n",
    "# import numpy as np\n",
    "# from shapely.geometry import Polygon\n",
    "# mask = None\n",
    "# with rasterio.Env():\n",
    "#  with rasterio.open(‘SlopeNew.tif’) as src:\n",
    "#  image = src.read(1) # first band\n",
    "#  results = (\n",
    "#  {‘properties’: {‘raster_val’: v}, ‘geometry’: s}\n",
    "#  for i, (s, v)\n",
    "#  in enumerate(\n",
    "#  shapes(image.astype(np.float32), mask=mask, \n",
    "# transform=src.transform)))\n",
    "#  geoms = list(results)"
   ]
  },
  {
   "cell_type": "code",
   "execution_count": 14,
   "id": "5e01b1d5",
   "metadata": {},
   "outputs": [],
   "source": [
    "def return_xyzc(point):\n",
    " x = point[0]\n",
    " y = point[1]\n",
    " z = point[2]\n",
    " c = point[5]\n",
    " return [x, y, z , c]\n",
    "\n",
    "input_las_path=\"AK_Juneau_2012_000021.las\"\n",
    "pcloud = pylas.read(input_las_path)\n",
    "points = [return_xyzc(i) for i in pcloud]\n",
    "building_pts = [point for point in points if point[3] == 6]"
   ]
  },
  {
   "cell_type": "code",
   "execution_count": 16,
   "id": "c13eeee5",
   "metadata": {},
   "outputs": [
    {
     "data": {
      "text/plain": [
       "[]"
      ]
     },
     "execution_count": 16,
     "metadata": {},
     "output_type": "execute_result"
    }
   ],
   "source": [
    "building_pts"
   ]
  },
  {
   "cell_type": "code",
   "execution_count": 31,
   "id": "509943cf",
   "metadata": {},
   "outputs": [
    {
     "name": "stdout",
     "output_type": "stream",
     "text": [
      "Collecting open3d\n",
      "  Using cached open3d-0.14.1-cp37-cp37m-manylinux_2_27_x86_64.whl (395.5 MB)\n",
      "Requirement already satisfied: wheel>=0.36.0 in /srv/conda/envs/pangeo/lib/python3.7/site-packages (from open3d) (0.36.2)\n",
      "Requirement already satisfied: pillow>=8.2.0 in /srv/conda/envs/pangeo/lib/python3.7/site-packages (from open3d) (8.2.0)\n",
      "Requirement already satisfied: pyyaml>=5.4.1 in /home/jovyan/.local/lib/python3.7/site-packages (from open3d) (6.0)\n",
      "Requirement already satisfied: pandas>=1.0 in /srv/conda/envs/pangeo/lib/python3.7/site-packages (from open3d) (1.2.5)\n",
      "Requirement already satisfied: scikit-learn>=0.21 in /srv/conda/envs/pangeo/lib/python3.7/site-packages (from open3d) (0.24.2)\n",
      "Requirement already satisfied: matplotlib>=3 in /srv/conda/envs/pangeo/lib/python3.7/site-packages (from open3d) (3.4.2)\n",
      "Requirement already satisfied: numpy>1.15 in /srv/conda/envs/pangeo/lib/python3.7/site-packages (from open3d) (1.21.0)\n",
      "Requirement already satisfied: pygments>=2.7.4 in /srv/conda/envs/pangeo/lib/python3.7/site-packages (from open3d) (2.9.0)\n",
      "Requirement already satisfied: tqdm in /srv/conda/envs/pangeo/lib/python3.7/site-packages (from open3d) (4.61.1)\n",
      "Requirement already satisfied: jupyterlab==3.*,>=3.0.0 in /srv/conda/envs/pangeo/lib/python3.7/site-packages (from open3d) (3.0.16)\n",
      "Requirement already satisfied: addict in /home/jovyan/.local/lib/python3.7/site-packages (from open3d) (2.4.0)\n",
      "Requirement already satisfied: jupyter-packaging~=0.10 in /home/jovyan/.local/lib/python3.7/site-packages (from open3d) (0.11.1)\n",
      "Requirement already satisfied: ipywidgets>=7.6.0 in /srv/conda/envs/pangeo/lib/python3.7/site-packages (from open3d) (7.6.3)\n",
      "Requirement already satisfied: setuptools>=40.8.0 in /srv/conda/envs/pangeo/lib/python3.7/site-packages (from open3d) (52.0.0.post20210125)\n",
      "Requirement already satisfied: nbclassic~=0.2 in /srv/conda/envs/pangeo/lib/python3.7/site-packages (from jupyterlab==3.*,>=3.0.0->open3d) (0.3.1)\n",
      "Requirement already satisfied: tornado>=6.1.0 in /srv/conda/envs/pangeo/lib/python3.7/site-packages (from jupyterlab==3.*,>=3.0.0->open3d) (6.1)\n",
      "Requirement already satisfied: jupyterlab-server~=2.3 in /srv/conda/envs/pangeo/lib/python3.7/site-packages (from jupyterlab==3.*,>=3.0.0->open3d) (2.6.0)\n",
      "Requirement already satisfied: jinja2>=2.1 in /srv/conda/envs/pangeo/lib/python3.7/site-packages (from jupyterlab==3.*,>=3.0.0->open3d) (3.0.1)\n",
      "Requirement already satisfied: jupyter-server~=1.4 in /srv/conda/envs/pangeo/lib/python3.7/site-packages (from jupyterlab==3.*,>=3.0.0->open3d) (1.8.0)\n",
      "Requirement already satisfied: jupyter-core in /srv/conda/envs/pangeo/lib/python3.7/site-packages (from jupyterlab==3.*,>=3.0.0->open3d) (4.7.1)\n",
      "Requirement already satisfied: packaging in /srv/conda/envs/pangeo/lib/python3.7/site-packages (from jupyterlab==3.*,>=3.0.0->open3d) (20.9)\n",
      "Requirement already satisfied: ipython in /srv/conda/envs/pangeo/lib/python3.7/site-packages (from jupyterlab==3.*,>=3.0.0->open3d) (7.24.1)\n",
      "Requirement already satisfied: nbformat>=4.2.0 in /srv/conda/envs/pangeo/lib/python3.7/site-packages (from ipywidgets>=7.6.0->open3d) (5.1.3)\n",
      "Requirement already satisfied: widgetsnbextension~=3.5.0 in /srv/conda/envs/pangeo/lib/python3.7/site-packages (from ipywidgets>=7.6.0->open3d) (3.5.1)\n",
      "Requirement already satisfied: jupyterlab-widgets>=1.0.0 in /srv/conda/envs/pangeo/lib/python3.7/site-packages (from ipywidgets>=7.6.0->open3d) (1.0.0)\n",
      "Requirement already satisfied: traitlets>=4.3.1 in /srv/conda/envs/pangeo/lib/python3.7/site-packages (from ipywidgets>=7.6.0->open3d) (5.0.5)\n",
      "Requirement already satisfied: ipykernel>=4.5.1 in /srv/conda/envs/pangeo/lib/python3.7/site-packages (from ipywidgets>=7.6.0->open3d) (5.5.5)\n",
      "Requirement already satisfied: jupyter-client in /srv/conda/envs/pangeo/lib/python3.7/site-packages (from ipykernel>=4.5.1->ipywidgets>=7.6.0->open3d) (6.1.12)\n",
      "Requirement already satisfied: backcall in /srv/conda/envs/pangeo/lib/python3.7/site-packages (from ipython->jupyterlab==3.*,>=3.0.0->open3d) (0.2.0)\n",
      "Requirement already satisfied: decorator in /srv/conda/envs/pangeo/lib/python3.7/site-packages (from ipython->jupyterlab==3.*,>=3.0.0->open3d) (4.4.2)\n",
      "Requirement already satisfied: jedi>=0.16 in /srv/conda/envs/pangeo/lib/python3.7/site-packages (from ipython->jupyterlab==3.*,>=3.0.0->open3d) (0.18.0)\n",
      "Requirement already satisfied: prompt-toolkit!=3.0.0,!=3.0.1,<3.1.0,>=2.0.0 in /srv/conda/envs/pangeo/lib/python3.7/site-packages (from ipython->jupyterlab==3.*,>=3.0.0->open3d) (3.0.19)\n",
      "Requirement already satisfied: pickleshare in /srv/conda/envs/pangeo/lib/python3.7/site-packages (from ipython->jupyterlab==3.*,>=3.0.0->open3d) (0.7.5)\n",
      "Requirement already satisfied: pexpect>4.3 in /srv/conda/envs/pangeo/lib/python3.7/site-packages (from ipython->jupyterlab==3.*,>=3.0.0->open3d) (4.8.0)\n",
      "Requirement already satisfied: matplotlib-inline in /srv/conda/envs/pangeo/lib/python3.7/site-packages (from ipython->jupyterlab==3.*,>=3.0.0->open3d) (0.1.2)\n",
      "Requirement already satisfied: parso<0.9.0,>=0.8.0 in /srv/conda/envs/pangeo/lib/python3.7/site-packages (from jedi>=0.16->ipython->jupyterlab==3.*,>=3.0.0->open3d) (0.8.2)\n",
      "Requirement already satisfied: MarkupSafe>=2.0 in /srv/conda/envs/pangeo/lib/python3.7/site-packages (from jinja2>=2.1->jupyterlab==3.*,>=3.0.0->open3d) (2.0.1)\n",
      "Requirement already satisfied: tomlkit in /home/jovyan/.local/lib/python3.7/site-packages (from jupyter-packaging~=0.10->open3d) (0.7.2)\n",
      "Requirement already satisfied: deprecation in /home/jovyan/.local/lib/python3.7/site-packages (from jupyter-packaging~=0.10->open3d) (2.1.0)\n",
      "Requirement already satisfied: websocket-client in /srv/conda/envs/pangeo/lib/python3.7/site-packages (from jupyter-server~=1.4->jupyterlab==3.*,>=3.0.0->open3d) (0.58.0)\n",
      "Requirement already satisfied: nbconvert in /srv/conda/envs/pangeo/lib/python3.7/site-packages (from jupyter-server~=1.4->jupyterlab==3.*,>=3.0.0->open3d) (6.1.0)\n",
      "Requirement already satisfied: Send2Trash in /srv/conda/envs/pangeo/lib/python3.7/site-packages (from jupyter-server~=1.4->jupyterlab==3.*,>=3.0.0->open3d) (1.7.1)\n",
      "Requirement already satisfied: prometheus-client in /srv/conda/envs/pangeo/lib/python3.7/site-packages (from jupyter-server~=1.4->jupyterlab==3.*,>=3.0.0->open3d) (0.11.0)\n",
      "Requirement already satisfied: argon2-cffi in /srv/conda/envs/pangeo/lib/python3.7/site-packages (from jupyter-server~=1.4->jupyterlab==3.*,>=3.0.0->open3d) (20.1.0)\n",
      "Requirement already satisfied: pyzmq>=17 in /srv/conda/envs/pangeo/lib/python3.7/site-packages (from jupyter-server~=1.4->jupyterlab==3.*,>=3.0.0->open3d) (22.1.0)\n",
      "Requirement already satisfied: anyio<4,>=3.1.0 in /srv/conda/envs/pangeo/lib/python3.7/site-packages (from jupyter-server~=1.4->jupyterlab==3.*,>=3.0.0->open3d) (3.2.1)\n",
      "Requirement already satisfied: terminado>=0.8.3 in /srv/conda/envs/pangeo/lib/python3.7/site-packages (from jupyter-server~=1.4->jupyterlab==3.*,>=3.0.0->open3d) (0.10.1)\n",
      "Requirement already satisfied: ipython-genutils in /srv/conda/envs/pangeo/lib/python3.7/site-packages (from jupyter-server~=1.4->jupyterlab==3.*,>=3.0.0->open3d) (0.2.0)\n",
      "Requirement already satisfied: typing-extensions in /srv/conda/envs/pangeo/lib/python3.7/site-packages (from anyio<4,>=3.1.0->jupyter-server~=1.4->jupyterlab==3.*,>=3.0.0->open3d) (3.10.0.0)\n",
      "Requirement already satisfied: sniffio>=1.1 in /srv/conda/envs/pangeo/lib/python3.7/site-packages (from anyio<4,>=3.1.0->jupyter-server~=1.4->jupyterlab==3.*,>=3.0.0->open3d) (1.2.0)\n",
      "Requirement already satisfied: idna>=2.8 in /srv/conda/envs/pangeo/lib/python3.7/site-packages (from anyio<4,>=3.1.0->jupyter-server~=1.4->jupyterlab==3.*,>=3.0.0->open3d) (2.10)\n",
      "Requirement already satisfied: python-dateutil>=2.1 in /srv/conda/envs/pangeo/lib/python3.7/site-packages (from jupyter-client->ipykernel>=4.5.1->ipywidgets>=7.6.0->open3d) (2.7.5)\n",
      "Requirement already satisfied: requests in /srv/conda/envs/pangeo/lib/python3.7/site-packages (from jupyterlab-server~=2.3->jupyterlab==3.*,>=3.0.0->open3d) (2.25.1)\n",
      "Requirement already satisfied: json5 in /srv/conda/envs/pangeo/lib/python3.7/site-packages (from jupyterlab-server~=2.3->jupyterlab==3.*,>=3.0.0->open3d) (0.9.6)\n",
      "Requirement already satisfied: jsonschema>=3.0.1 in /srv/conda/envs/pangeo/lib/python3.7/site-packages (from jupyterlab-server~=2.3->jupyterlab==3.*,>=3.0.0->open3d) (3.2.0)\n",
      "Requirement already satisfied: babel in /srv/conda/envs/pangeo/lib/python3.7/site-packages (from jupyterlab-server~=2.3->jupyterlab==3.*,>=3.0.0->open3d) (2.9.1)\n"
     ]
    },
    {
     "name": "stdout",
     "output_type": "stream",
     "text": [
      "Requirement already satisfied: importlib-metadata in /srv/conda/envs/pangeo/lib/python3.7/site-packages (from jsonschema>=3.0.1->jupyterlab-server~=2.3->jupyterlab==3.*,>=3.0.0->open3d) (4.5.0)\n",
      "Requirement already satisfied: attrs>=17.4.0 in /srv/conda/envs/pangeo/lib/python3.7/site-packages (from jsonschema>=3.0.1->jupyterlab-server~=2.3->jupyterlab==3.*,>=3.0.0->open3d) (21.2.0)\n",
      "Requirement already satisfied: six>=1.11.0 in /srv/conda/envs/pangeo/lib/python3.7/site-packages (from jsonschema>=3.0.1->jupyterlab-server~=2.3->jupyterlab==3.*,>=3.0.0->open3d) (1.16.0)\n",
      "Requirement already satisfied: pyrsistent>=0.14.0 in /srv/conda/envs/pangeo/lib/python3.7/site-packages (from jsonschema>=3.0.1->jupyterlab-server~=2.3->jupyterlab==3.*,>=3.0.0->open3d) (0.17.3)\n",
      "Requirement already satisfied: kiwisolver>=1.0.1 in /srv/conda/envs/pangeo/lib/python3.7/site-packages (from matplotlib>=3->open3d) (1.3.1)\n",
      "Requirement already satisfied: pyparsing>=2.2.1 in /srv/conda/envs/pangeo/lib/python3.7/site-packages (from matplotlib>=3->open3d) (2.4.7)\n",
      "Requirement already satisfied: cycler>=0.10 in /srv/conda/envs/pangeo/lib/python3.7/site-packages (from matplotlib>=3->open3d) (0.10.0)\n",
      "Requirement already satisfied: notebook<7 in /srv/conda/envs/pangeo/lib/python3.7/site-packages (from nbclassic~=0.2->jupyterlab==3.*,>=3.0.0->open3d) (6.4.0)\n",
      "Requirement already satisfied: pytz>=2017.3 in /srv/conda/envs/pangeo/lib/python3.7/site-packages (from pandas>=1.0->open3d) (2021.1)\n",
      "Requirement already satisfied: ptyprocess>=0.5 in /srv/conda/envs/pangeo/lib/python3.7/site-packages (from pexpect>4.3->ipython->jupyterlab==3.*,>=3.0.0->open3d) (0.7.0)\n",
      "Requirement already satisfied: wcwidth in /srv/conda/envs/pangeo/lib/python3.7/site-packages (from prompt-toolkit!=3.0.0,!=3.0.1,<3.1.0,>=2.0.0->ipython->jupyterlab==3.*,>=3.0.0->open3d) (0.2.5)\n",
      "Requirement already satisfied: joblib>=0.11 in /srv/conda/envs/pangeo/lib/python3.7/site-packages (from scikit-learn>=0.21->open3d) (1.0.1)\n",
      "Requirement already satisfied: scipy>=0.19.1 in /srv/conda/envs/pangeo/lib/python3.7/site-packages (from scikit-learn>=0.21->open3d) (1.6.3)\n",
      "Requirement already satisfied: threadpoolctl>=2.0.0 in /srv/conda/envs/pangeo/lib/python3.7/site-packages (from scikit-learn>=0.21->open3d) (2.1.0)\n",
      "Requirement already satisfied: cffi>=1.0.0 in /srv/conda/envs/pangeo/lib/python3.7/site-packages (from argon2-cffi->jupyter-server~=1.4->jupyterlab==3.*,>=3.0.0->open3d) (1.14.5)\n",
      "Requirement already satisfied: pycparser in /srv/conda/envs/pangeo/lib/python3.7/site-packages (from cffi>=1.0.0->argon2-cffi->jupyter-server~=1.4->jupyterlab==3.*,>=3.0.0->open3d) (2.20)\n",
      "Requirement already satisfied: zipp>=0.5 in /srv/conda/envs/pangeo/lib/python3.7/site-packages (from importlib-metadata->jsonschema>=3.0.1->jupyterlab-server~=2.3->jupyterlab==3.*,>=3.0.0->open3d) (3.4.1)\n",
      "Requirement already satisfied: bleach in /srv/conda/envs/pangeo/lib/python3.7/site-packages (from nbconvert->jupyter-server~=1.4->jupyterlab==3.*,>=3.0.0->open3d) (3.3.0)\n",
      "Requirement already satisfied: jupyterlab-pygments in /srv/conda/envs/pangeo/lib/python3.7/site-packages (from nbconvert->jupyter-server~=1.4->jupyterlab==3.*,>=3.0.0->open3d) (0.1.2)\n",
      "Requirement already satisfied: testpath in /srv/conda/envs/pangeo/lib/python3.7/site-packages (from nbconvert->jupyter-server~=1.4->jupyterlab==3.*,>=3.0.0->open3d) (0.5.0)\n",
      "Requirement already satisfied: pandocfilters>=1.4.1 in /srv/conda/envs/pangeo/lib/python3.7/site-packages (from nbconvert->jupyter-server~=1.4->jupyterlab==3.*,>=3.0.0->open3d) (1.4.3)\n",
      "Requirement already satisfied: mistune<2,>=0.8.1 in /srv/conda/envs/pangeo/lib/python3.7/site-packages (from nbconvert->jupyter-server~=1.4->jupyterlab==3.*,>=3.0.0->open3d) (0.8.4)\n",
      "Requirement already satisfied: nbclient<0.6.0,>=0.5.0 in /srv/conda/envs/pangeo/lib/python3.7/site-packages (from nbconvert->jupyter-server~=1.4->jupyterlab==3.*,>=3.0.0->open3d) (0.5.3)\n",
      "Requirement already satisfied: defusedxml in /srv/conda/envs/pangeo/lib/python3.7/site-packages (from nbconvert->jupyter-server~=1.4->jupyterlab==3.*,>=3.0.0->open3d) (0.7.1)\n",
      "Requirement already satisfied: entrypoints>=0.2.2 in /srv/conda/envs/pangeo/lib/python3.7/site-packages (from nbconvert->jupyter-server~=1.4->jupyterlab==3.*,>=3.0.0->open3d) (0.3)\n",
      "Requirement already satisfied: nest-asyncio in /srv/conda/envs/pangeo/lib/python3.7/site-packages (from nbclient<0.6.0,>=0.5.0->nbconvert->jupyter-server~=1.4->jupyterlab==3.*,>=3.0.0->open3d) (1.5.1)\n",
      "Requirement already satisfied: async-generator in /srv/conda/envs/pangeo/lib/python3.7/site-packages (from nbclient<0.6.0,>=0.5.0->nbconvert->jupyter-server~=1.4->jupyterlab==3.*,>=3.0.0->open3d) (1.10)\n",
      "Requirement already satisfied: webencodings in /srv/conda/envs/pangeo/lib/python3.7/site-packages (from bleach->nbconvert->jupyter-server~=1.4->jupyterlab==3.*,>=3.0.0->open3d) (0.5.1)\n",
      "Requirement already satisfied: chardet<5,>=3.0.2 in /srv/conda/envs/pangeo/lib/python3.7/site-packages (from requests->jupyterlab-server~=2.3->jupyterlab==3.*,>=3.0.0->open3d) (4.0.0)\n",
      "Requirement already satisfied: urllib3<1.27,>=1.21.1 in /srv/conda/envs/pangeo/lib/python3.7/site-packages (from requests->jupyterlab-server~=2.3->jupyterlab==3.*,>=3.0.0->open3d) (1.26.5)\n",
      "Requirement already satisfied: certifi>=2017.4.17 in /srv/conda/envs/pangeo/lib/python3.7/site-packages (from requests->jupyterlab-server~=2.3->jupyterlab==3.*,>=3.0.0->open3d) (2021.5.30)\n",
      "Installing collected packages: open3d\n",
      "Successfully installed open3d-0.14.1\n"
     ]
    }
   ],
   "source": [
    "! pip install --user open3d\n",
    "#!pip uninstall -y open3d\n",
    "\n",
    "# FAIL2 ! pip install --user open3d-python"
   ]
  },
  {
   "cell_type": "code",
   "execution_count": 36,
   "id": "63dafabb",
   "metadata": {},
   "outputs": [],
   "source": [
    "import numpy as np\n",
    "#from open3d import * \n",
    "import open3d\n",
    "#from open3d import read_point_cloud\n",
    "\n",
    "def las_test(las_file):\n",
    "    cloud = open3d.io.read_point_cloud(las_file,print_progress=True) # Read the point cloud\n",
    "    open3d.visualization.draw_geometries([cloud]) # Visualize the point cloud     \n"
   ]
  },
  {
   "cell_type": "code",
   "execution_count": 37,
   "id": "4f601863",
   "metadata": {},
   "outputs": [
    {
     "name": "stdout",
     "output_type": "stream",
     "text": [
      "\u001b[1;33m[Open3D WARNING] Read geometry::PointCloud failed: unknown file extension for AK_Juneau_2012_000021.las (format: auto).\u001b[0;m\n",
      "\u001b[1;33m[Open3D WARNING] GLFW Error: X11: The DISPLAY environment variable is missing\u001b[0;m\n",
      "\u001b[1;33m[Open3D WARNING] Failed to initialize GLFW\u001b[0;m\n",
      "\u001b[1;33m[Open3D WARNING] [DrawGeometries] Failed creating OpenGL window.\u001b[0;m\n"
     ]
    }
   ],
   "source": [
    "las_test('AK_Juneau_2012_000021.las')"
   ]
  },
  {
   "cell_type": "code",
   "execution_count": 38,
   "id": "0afe28e4",
   "metadata": {},
   "outputs": [
    {
     "ename": "ImportError",
     "evalue": "cannot import name 'JVisualizer' from 'open3d' (/home/jovyan/.local/lib/python3.7/site-packages/open3d/__init__.py)",
     "output_type": "error",
     "traceback": [
      "\u001b[0;31m---------------------------------------------------------------------------\u001b[0m",
      "\u001b[0;31mImportError\u001b[0m                               Traceback (most recent call last)",
      "\u001b[0;32m<ipython-input-38-e7c1cd385ebb>\u001b[0m in \u001b[0;36m<module>\u001b[0;34m\u001b[0m\n\u001b[0;32m----> 1\u001b[0;31m \u001b[0;32mfrom\u001b[0m \u001b[0mopen3d\u001b[0m \u001b[0;32mimport\u001b[0m \u001b[0mJVisualizer\u001b[0m\u001b[0;34m\u001b[0m\u001b[0;34m\u001b[0m\u001b[0m\n\u001b[0m",
      "\u001b[0;31mImportError\u001b[0m: cannot import name 'JVisualizer' from 'open3d' (/home/jovyan/.local/lib/python3.7/site-packages/open3d/__init__.py)"
     ]
    }
   ],
   "source": [
    "from open3d import JVisualizer\n"
   ]
  },
  {
   "cell_type": "markdown",
   "id": "585528b8",
   "metadata": {},
   "source": [
    "https://github.com/maartenbreddels/ipyvolume/blob/master/notebooks/demo-0.4.ipynb\n",
    "\n",
    "https://heremaps.github.io/pptk/tutorials/viewer/tanks_and_temples.html\n",
    "\n",
    "https://stackoverflow.com/questions/50965673/python-display-3d-point-cloud"
   ]
  },
  {
   "cell_type": "code",
   "execution_count": 40,
   "id": "e3791f1d",
   "metadata": {},
   "outputs": [
    {
     "name": "stdout",
     "output_type": "stream",
     "text": [
      "Collecting pptk\n",
      "  Downloading pptk-0.1.0-cp37-none-manylinux1_x86_64.whl (24.8 MB)\n",
      "\u001b[K     |████████████████████████████████| 24.8 MB 7.0 MB/s eta 0:00:011     |████████████████████████        | 18.6 MB 11.4 MB/s eta 0:00:01\n",
      "\u001b[?25hRequirement already satisfied: numpy in /srv/conda/envs/pangeo/lib/python3.7/site-packages (from pptk) (1.21.0)\n",
      "Installing collected packages: pptk\n",
      "Successfully installed pptk-0.1.0\n"
     ]
    }
   ],
   "source": [
    "#! pip install --user pptk"
   ]
  },
  {
   "cell_type": "code",
   "execution_count": 42,
   "id": "8da1120b",
   "metadata": {},
   "outputs": [
    {
     "ename": "KeyboardInterrupt",
     "evalue": "",
     "output_type": "error",
     "traceback": [
      "\u001b[0;31m---------------------------------------------------------------------------\u001b[0m",
      "\u001b[0;31mKeyboardInterrupt\u001b[0m                         Traceback (most recent call last)",
      "\u001b[0;32m<ipython-input-42-d1868d56b75a>\u001b[0m in \u001b[0;36m<module>\u001b[0;34m\u001b[0m\n\u001b[1;32m      3\u001b[0m \u001b[0;32mimport\u001b[0m \u001b[0mnumpy\u001b[0m \u001b[0;32mas\u001b[0m \u001b[0mnp\u001b[0m\u001b[0;34m\u001b[0m\u001b[0;34m\u001b[0m\u001b[0m\n\u001b[1;32m      4\u001b[0m \u001b[0mP\u001b[0m \u001b[0;34m=\u001b[0m \u001b[0mnp\u001b[0m\u001b[0;34m.\u001b[0m\u001b[0mrandom\u001b[0m\u001b[0;34m.\u001b[0m\u001b[0mrand\u001b[0m\u001b[0;34m(\u001b[0m\u001b[0;36m100\u001b[0m\u001b[0;34m,\u001b[0m\u001b[0;36m3\u001b[0m\u001b[0;34m)\u001b[0m\u001b[0;34m\u001b[0m\u001b[0;34m\u001b[0m\u001b[0m\n\u001b[0;32m----> 5\u001b[0;31m \u001b[0mv\u001b[0m \u001b[0;34m=\u001b[0m \u001b[0mpptk\u001b[0m\u001b[0;34m.\u001b[0m\u001b[0mviewer\u001b[0m\u001b[0;34m(\u001b[0m\u001b[0mP\u001b[0m\u001b[0;34m)\u001b[0m\u001b[0;34m\u001b[0m\u001b[0;34m\u001b[0m\u001b[0m\n\u001b[0m",
      "\u001b[0;32m~/.local/lib/python3.7/site-packages/pptk/viewer/viewer.py\u001b[0m in \u001b[0;36m__init__\u001b[0;34m(self, *args, **kwargs)\u001b[0m\n\u001b[1;32m     55\u001b[0m             print ('Started viewer process: %s' \\\n\u001b[1;32m     56\u001b[0m                 % os.path.join(_viewer_dir, 'viewer'))\n\u001b[0;32m---> 57\u001b[0;31m         \u001b[0mx\u001b[0m \u001b[0;34m=\u001b[0m \u001b[0ms\u001b[0m\u001b[0;34m.\u001b[0m\u001b[0maccept\u001b[0m\u001b[0;34m(\u001b[0m\u001b[0;34m)\u001b[0m\u001b[0;34m\u001b[0m\u001b[0;34m\u001b[0m\u001b[0m\n\u001b[0m\u001b[1;32m     58\u001b[0m         \u001b[0mself\u001b[0m\u001b[0;34m.\u001b[0m\u001b[0m_portNumber\u001b[0m \u001b[0;34m=\u001b[0m \u001b[0mstruct\u001b[0m\u001b[0;34m.\u001b[0m\u001b[0munpack\u001b[0m\u001b[0;34m(\u001b[0m\u001b[0;34m'H'\u001b[0m\u001b[0;34m,\u001b[0m \u001b[0mself\u001b[0m\u001b[0;34m.\u001b[0m\u001b[0m_process\u001b[0m\u001b[0;34m.\u001b[0m\u001b[0mstdout\u001b[0m\u001b[0;34m.\u001b[0m\u001b[0mread\u001b[0m\u001b[0;34m(\u001b[0m\u001b[0;36m2\u001b[0m\u001b[0;34m)\u001b[0m\u001b[0;34m)\u001b[0m\u001b[0;34m[\u001b[0m\u001b[0;36m0\u001b[0m\u001b[0;34m]\u001b[0m\u001b[0;34m\u001b[0m\u001b[0;34m\u001b[0m\u001b[0m\n\u001b[1;32m     59\u001b[0m         \u001b[0;31m# self._portNumber = struct.unpack('H',x[0].recv(2))[0]\u001b[0m\u001b[0;34m\u001b[0m\u001b[0;34m\u001b[0m\u001b[0;34m\u001b[0m\u001b[0m\n",
      "\u001b[0;32m/srv/conda/envs/pangeo/lib/python3.7/socket.py\u001b[0m in \u001b[0;36maccept\u001b[0;34m(self)\u001b[0m\n\u001b[1;32m    210\u001b[0m         \u001b[0mFor\u001b[0m \u001b[0mIP\u001b[0m \u001b[0msockets\u001b[0m\u001b[0;34m,\u001b[0m \u001b[0mthe\u001b[0m \u001b[0maddress\u001b[0m \u001b[0minfo\u001b[0m \u001b[0;32mis\u001b[0m \u001b[0ma\u001b[0m \u001b[0mpair\u001b[0m \u001b[0;34m(\u001b[0m\u001b[0mhostaddr\u001b[0m\u001b[0;34m,\u001b[0m \u001b[0mport\u001b[0m\u001b[0;34m)\u001b[0m\u001b[0;34m.\u001b[0m\u001b[0;34m\u001b[0m\u001b[0;34m\u001b[0m\u001b[0m\n\u001b[1;32m    211\u001b[0m         \"\"\"\n\u001b[0;32m--> 212\u001b[0;31m         \u001b[0mfd\u001b[0m\u001b[0;34m,\u001b[0m \u001b[0maddr\u001b[0m \u001b[0;34m=\u001b[0m \u001b[0mself\u001b[0m\u001b[0;34m.\u001b[0m\u001b[0m_accept\u001b[0m\u001b[0;34m(\u001b[0m\u001b[0;34m)\u001b[0m\u001b[0;34m\u001b[0m\u001b[0;34m\u001b[0m\u001b[0m\n\u001b[0m\u001b[1;32m    213\u001b[0m         \u001b[0msock\u001b[0m \u001b[0;34m=\u001b[0m \u001b[0msocket\u001b[0m\u001b[0;34m(\u001b[0m\u001b[0mself\u001b[0m\u001b[0;34m.\u001b[0m\u001b[0mfamily\u001b[0m\u001b[0;34m,\u001b[0m \u001b[0mself\u001b[0m\u001b[0;34m.\u001b[0m\u001b[0mtype\u001b[0m\u001b[0;34m,\u001b[0m \u001b[0mself\u001b[0m\u001b[0;34m.\u001b[0m\u001b[0mproto\u001b[0m\u001b[0;34m,\u001b[0m \u001b[0mfileno\u001b[0m\u001b[0;34m=\u001b[0m\u001b[0mfd\u001b[0m\u001b[0;34m)\u001b[0m\u001b[0;34m\u001b[0m\u001b[0;34m\u001b[0m\u001b[0m\n\u001b[1;32m    214\u001b[0m         \u001b[0;31m# Issue #7995: if no default timeout is set and the listening\u001b[0m\u001b[0;34m\u001b[0m\u001b[0;34m\u001b[0m\u001b[0;34m\u001b[0m\u001b[0m\n",
      "\u001b[0;31mKeyboardInterrupt\u001b[0m: "
     ]
    }
   ],
   "source": [
    "# fail fail\n",
    "# import pptk\n",
    "# import numpy as np\n",
    "# P = np.random.rand(100,3)\n",
    "# v = pptk.viewer(P)"
   ]
  },
  {
   "cell_type": "code",
   "execution_count": 43,
   "id": "f8f3ef9e",
   "metadata": {},
   "outputs": [
    {
     "name": "stdout",
     "output_type": "stream",
     "text": [
      "--2021-12-08 16:04:11--  https://people.sc.fsu.edu/~jburkardt/data/ply/airplane.ply\n",
      "Resolving people.sc.fsu.edu (people.sc.fsu.edu)... 144.174.16.102\n",
      "Connecting to people.sc.fsu.edu (people.sc.fsu.edu)|144.174.16.102|:443... connected.\n",
      "HTTP request sent, awaiting response... 200 OK\n",
      "Length: 74547 (73K)\n",
      "Saving to: ‘airplane.ply’\n",
      "\n",
      "airplane.ply        100%[===================>]  72.80K   379KB/s    in 0.2s    \n",
      "\n",
      "2021-12-08 16:04:12 (379 KB/s) - ‘airplane.ply’ saved [74547/74547]\n",
      "\n"
     ]
    }
   ],
   "source": [
    "!wget https://people.sc.fsu.edu/~jburkardt/data/ply/airplane.ply"
   ]
  },
  {
   "cell_type": "code",
   "execution_count": 46,
   "id": "358fcca1",
   "metadata": {},
   "outputs": [
    {
     "name": "stdout",
     "output_type": "stream",
     "text": [
      "Collecting pyntcloud\n",
      "  Downloading pyntcloud-0.1.5-py3-none-any.whl (346 kB)\n",
      "\u001b[K     |████████████████████████████████| 346 kB 3.9 MB/s eta 0:00:01\n",
      "\u001b[?25hRequirement already satisfied: scipy in /srv/conda/envs/pangeo/lib/python3.7/site-packages (from pyntcloud) (1.6.3)\n",
      "Requirement already satisfied: pandas in /srv/conda/envs/pangeo/lib/python3.7/site-packages (from pyntcloud) (1.2.5)\n",
      "Requirement already satisfied: numpy in /srv/conda/envs/pangeo/lib/python3.7/site-packages (from pyntcloud) (1.21.0)\n",
      "Requirement already satisfied: python-dateutil>=2.7.3 in /srv/conda/envs/pangeo/lib/python3.7/site-packages (from pandas->pyntcloud) (2.7.5)\n",
      "Requirement already satisfied: pytz>=2017.3 in /srv/conda/envs/pangeo/lib/python3.7/site-packages (from pandas->pyntcloud) (2021.1)\n",
      "Requirement already satisfied: six>=1.5 in /srv/conda/envs/pangeo/lib/python3.7/site-packages (from python-dateutil>=2.7.3->pandas->pyntcloud) (1.16.0)\n",
      "Installing collected packages: pyntcloud\n",
      "Successfully installed pyntcloud-0.1.5\n"
     ]
    }
   ],
   "source": [
    "! pip install --user pyntcloud"
   ]
  },
  {
   "cell_type": "code",
   "execution_count": 47,
   "id": "8e27c12d",
   "metadata": {},
   "outputs": [
    {
     "data": {
      "image/png": "[encoded data removed]",
      "text/plain": [
       "<Figure size 720x720 with 1 Axes>"
      ]
     },
     "metadata": {
      "needs_background": "light"
     },
     "output_type": "display_data"
    }
   ],
   "source": [
    "from pyntcloud import PyntCloud\n",
    "\n",
    "human_face = PyntCloud.from_file(\"airplane.ply\")\n",
    "\n",
    "human_face.plot()"
   ]
  },
  {
   "cell_type": "markdown",
   "id": "2f877418",
   "metadata": {},
   "source": [
    "![airplane](https://people.sc.fsu.edu/~jburkardt/data/ply/airplane.png)"
   ]
  },
  {
   "cell_type": "code",
   "execution_count": 51,
   "id": "0dc2a966",
   "metadata": {},
   "outputs": [
    {
     "name": "stdout",
     "output_type": "stream",
     "text": [
      "Collecting plyfile\n",
      "  Downloading plyfile-0.7.4-py3-none-any.whl (39 kB)\n",
      "Requirement already satisfied: numpy>=1.8 in /srv/conda/envs/pangeo/lib/python3.7/site-packages (from plyfile) (1.21.0)\n",
      "Installing collected packages: plyfile\n",
      "Successfully installed plyfile-0.7.4\n"
     ]
    }
   ],
   "source": [
    "#!pip install --user plyfile"
   ]
  },
  {
   "cell_type": "code",
   "execution_count": 53,
   "id": "bf7dad26",
   "metadata": {},
   "outputs": [
    {
     "data": {
      "text/plain": [
       "PlyElement('vertex', (PlyProperty('x', 'float'), PlyProperty('y', 'float'), PlyProperty('z', 'float')), count=1335, comments=[])"
      ]
     },
     "execution_count": 53,
     "metadata": {},
     "output_type": "execute_result"
    }
   ],
   "source": [
    "import plyfile\n",
    "data = plyfile.PlyData.read('airplane.ply')['vertex']\n",
    "data"
   ]
  },
  {
   "cell_type": "code",
   "execution_count": 54,
   "id": "ec19ebd6",
   "metadata": {},
   "outputs": [
    {
     "ename": "KeyboardInterrupt",
     "evalue": "",
     "output_type": "error",
     "traceback": [
      "\u001b[0;31m---------------------------------------------------------------------------\u001b[0m",
      "\u001b[0;31mKeyboardInterrupt\u001b[0m                         Traceback (most recent call last)",
      "\u001b[0;32m<ipython-input-54-fa6b7a9c7665>\u001b[0m in \u001b[0;36m<module>\u001b[0;34m\u001b[0m\n\u001b[1;32m      7\u001b[0m \u001b[0;31m#Visualize.\u001b[0m\u001b[0;34m\u001b[0m\u001b[0;34m\u001b[0m\u001b[0;34m\u001b[0m\u001b[0m\n\u001b[1;32m      8\u001b[0m \u001b[0;34m\u001b[0m\u001b[0m\n\u001b[0;32m----> 9\u001b[0;31m \u001b[0mv\u001b[0m \u001b[0;34m=\u001b[0m \u001b[0mpptk\u001b[0m\u001b[0;34m.\u001b[0m\u001b[0mviewer\u001b[0m\u001b[0;34m(\u001b[0m\u001b[0mxyz\u001b[0m\u001b[0;34m)\u001b[0m\u001b[0;34m\u001b[0m\u001b[0;34m\u001b[0m\u001b[0m\n\u001b[0m\u001b[1;32m     10\u001b[0m \u001b[0;31m#v.attributes(rgb / 255., 0.5 * (1 + n))\u001b[0m\u001b[0;34m\u001b[0m\u001b[0;34m\u001b[0m\u001b[0;34m\u001b[0m\u001b[0m\n",
      "\u001b[0;32m~/.local/lib/python3.7/site-packages/pptk/viewer/viewer.py\u001b[0m in \u001b[0;36m__init__\u001b[0;34m(self, *args, **kwargs)\u001b[0m\n\u001b[1;32m     55\u001b[0m             print ('Started viewer process: %s' \\\n\u001b[1;32m     56\u001b[0m                 % os.path.join(_viewer_dir, 'viewer'))\n\u001b[0;32m---> 57\u001b[0;31m         \u001b[0mx\u001b[0m \u001b[0;34m=\u001b[0m \u001b[0ms\u001b[0m\u001b[0;34m.\u001b[0m\u001b[0maccept\u001b[0m\u001b[0;34m(\u001b[0m\u001b[0;34m)\u001b[0m\u001b[0;34m\u001b[0m\u001b[0;34m\u001b[0m\u001b[0m\n\u001b[0m\u001b[1;32m     58\u001b[0m         \u001b[0mself\u001b[0m\u001b[0;34m.\u001b[0m\u001b[0m_portNumber\u001b[0m \u001b[0;34m=\u001b[0m \u001b[0mstruct\u001b[0m\u001b[0;34m.\u001b[0m\u001b[0munpack\u001b[0m\u001b[0;34m(\u001b[0m\u001b[0;34m'H'\u001b[0m\u001b[0;34m,\u001b[0m \u001b[0mself\u001b[0m\u001b[0;34m.\u001b[0m\u001b[0m_process\u001b[0m\u001b[0;34m.\u001b[0m\u001b[0mstdout\u001b[0m\u001b[0;34m.\u001b[0m\u001b[0mread\u001b[0m\u001b[0;34m(\u001b[0m\u001b[0;36m2\u001b[0m\u001b[0;34m)\u001b[0m\u001b[0;34m)\u001b[0m\u001b[0;34m[\u001b[0m\u001b[0;36m0\u001b[0m\u001b[0;34m]\u001b[0m\u001b[0;34m\u001b[0m\u001b[0;34m\u001b[0m\u001b[0m\n\u001b[1;32m     59\u001b[0m         \u001b[0;31m# self._portNumber = struct.unpack('H',x[0].recv(2))[0]\u001b[0m\u001b[0;34m\u001b[0m\u001b[0;34m\u001b[0m\u001b[0;34m\u001b[0m\u001b[0m\n",
      "\u001b[0;32m/srv/conda/envs/pangeo/lib/python3.7/socket.py\u001b[0m in \u001b[0;36maccept\u001b[0;34m(self)\u001b[0m\n\u001b[1;32m    210\u001b[0m         \u001b[0mFor\u001b[0m \u001b[0mIP\u001b[0m \u001b[0msockets\u001b[0m\u001b[0;34m,\u001b[0m \u001b[0mthe\u001b[0m \u001b[0maddress\u001b[0m \u001b[0minfo\u001b[0m \u001b[0;32mis\u001b[0m \u001b[0ma\u001b[0m \u001b[0mpair\u001b[0m \u001b[0;34m(\u001b[0m\u001b[0mhostaddr\u001b[0m\u001b[0;34m,\u001b[0m \u001b[0mport\u001b[0m\u001b[0;34m)\u001b[0m\u001b[0;34m.\u001b[0m\u001b[0;34m\u001b[0m\u001b[0;34m\u001b[0m\u001b[0m\n\u001b[1;32m    211\u001b[0m         \"\"\"\n\u001b[0;32m--> 212\u001b[0;31m         \u001b[0mfd\u001b[0m\u001b[0;34m,\u001b[0m \u001b[0maddr\u001b[0m \u001b[0;34m=\u001b[0m \u001b[0mself\u001b[0m\u001b[0;34m.\u001b[0m\u001b[0m_accept\u001b[0m\u001b[0;34m(\u001b[0m\u001b[0;34m)\u001b[0m\u001b[0;34m\u001b[0m\u001b[0;34m\u001b[0m\u001b[0m\n\u001b[0m\u001b[1;32m    213\u001b[0m         \u001b[0msock\u001b[0m \u001b[0;34m=\u001b[0m \u001b[0msocket\u001b[0m\u001b[0;34m(\u001b[0m\u001b[0mself\u001b[0m\u001b[0;34m.\u001b[0m\u001b[0mfamily\u001b[0m\u001b[0;34m,\u001b[0m \u001b[0mself\u001b[0m\u001b[0;34m.\u001b[0m\u001b[0mtype\u001b[0m\u001b[0;34m,\u001b[0m \u001b[0mself\u001b[0m\u001b[0;34m.\u001b[0m\u001b[0mproto\u001b[0m\u001b[0;34m,\u001b[0m \u001b[0mfileno\u001b[0m\u001b[0;34m=\u001b[0m\u001b[0mfd\u001b[0m\u001b[0;34m)\u001b[0m\u001b[0;34m\u001b[0m\u001b[0;34m\u001b[0m\u001b[0m\n\u001b[1;32m    214\u001b[0m         \u001b[0;31m# Issue #7995: if no default timeout is set and the listening\u001b[0m\u001b[0;34m\u001b[0m\u001b[0;34m\u001b[0m\u001b[0;34m\u001b[0m\u001b[0m\n",
      "\u001b[0;31mKeyboardInterrupt\u001b[0m: "
     ]
    }
   ],
   "source": [
    "# # FAIL AGAIN pptk\n",
    "# #Use per-vertex attributes to make numpy arrays xyz, rgb, and n.\n",
    "\n",
    "# xyz = np.c_[data['x'], data['y'], data['z']]\n",
    "# #rgb = np.c_[data['red'], data['green'], data['blue']]\n",
    "# #n = np.c_[data['nx'], data['ny'], data['nz']]\n",
    "\n",
    "# #Visualize.\n",
    "\n",
    "# v = pptk.viewer(xyz)\n",
    "# #v.attributes(rgb / 255., 0.5 * (1 + n))"
   ]
  },
  {
   "cell_type": "code",
   "execution_count": 55,
   "id": "c54db10f",
   "metadata": {},
   "outputs": [
    {
     "ename": "NameError",
     "evalue": "name 'pcread' is not defined",
     "output_type": "error",
     "traceback": [
      "\u001b[0;31m---------------------------------------------------------------------------\u001b[0m",
      "\u001b[0;31mNameError\u001b[0m                                 Traceback (most recent call last)",
      "\u001b[0;32m<ipython-input-55-bc19265d893d>\u001b[0m in \u001b[0;36m<module>\u001b[0;34m\u001b[0m\n\u001b[0;32m----> 1\u001b[0;31m \u001b[0mpcread\u001b[0m\u001b[0;34m(\u001b[0m\u001b[0;34m)\u001b[0m\u001b[0;34m\u001b[0m\u001b[0;34m\u001b[0m\u001b[0m\n\u001b[0m",
      "\u001b[0;31mNameError\u001b[0m: name 'pcread' is not defined"
     ]
    }
   ],
   "source": [
    "pcread()"
   ]
  },
  {
   "cell_type": "code",
   "execution_count": 57,
   "id": "d8df939a",
   "metadata": {},
   "outputs": [
    {
     "name": "stdout",
     "output_type": "stream",
     "text": [
      "Loading channels: done\n",
      "No match found for: pcread. Search: *pcread*\n",
      "\n",
      "PackagesNotFoundError: The following packages are not available from current channels:\n",
      "\n",
      "  - pcread\n",
      "\n",
      "Current channels:\n",
      "\n",
      "  - https://conda.anaconda.org/conda-forge/linux-64\n",
      "  - https://conda.anaconda.org/conda-forge/noarch\n",
      "  - https://repo.anaconda.com/pkgs/main/linux-64\n",
      "  - https://repo.anaconda.com/pkgs/main/noarch\n",
      "  - https://repo.anaconda.com/pkgs/r/linux-64\n",
      "  - https://repo.anaconda.com/pkgs/r/noarch\n",
      "\n",
      "To search for alternate channels that may provide the conda package you're\n",
      "looking for, navigate to\n",
      "\n",
      "    https://anaconda.org\n",
      "\n",
      "and use the search bar at the top of the page.\n",
      "\n",
      "\n"
     ]
    }
   ],
   "source": []
  },
  {
   "cell_type": "code",
   "execution_count": 58,
   "id": "cb479814",
   "metadata": {},
   "outputs": [],
   "source": [
    "ply_file='airplane.ply'"
   ]
  },
  {
   "cell_type": "code",
   "execution_count": 60,
   "id": "f91ca167",
   "metadata": {},
   "outputs": [
    {
     "name": "stdout",
     "output_type": "stream",
     "text": [
      "\u001b[1;33m[Open3D WARNING] GLFW Error: X11: The DISPLAY environment variable is missing\u001b[0;m\n",
      "\u001b[1;33m[Open3D WARNING] Failed to initialize GLFW\u001b[0;m\n",
      "\u001b[1;33m[Open3D WARNING] [DrawGeometries] Failed creating OpenGL window.\u001b[0;m\n"
     ]
    }
   ],
   "source": [
    "las_test(ply_file)"
   ]
  },
  {
   "cell_type": "markdown",
   "id": "22ec18c3",
   "metadata": {},
   "source": [
    "https://colab.research.google.com/drive/1CR_HDvJ2AnjJV3Bf5vwP70K0hx3RcdMb?usp=sharing#scrollTo=AAe7DdprqEO4"
   ]
  },
  {
   "cell_type": "code",
   "execution_count": null,
   "id": "46635226",
   "metadata": {},
   "outputs": [],
   "source": []
  }
 ],
 "metadata": {
  "kernelspec": {
   "display_name": "Python 3",
   "language": "python",
   "name": "python3"
  },
  "language_info": {
   "codemirror_mode": {
    "name": "ipython",
    "version": 3
   },
   "file_extension": ".py",
   "mimetype": "text/x-python",
   "name": "python",
   "nbconvert_exporter": "python",
   "pygments_lexer": "ipython3",
   "version": "3.7.10"
  }
 },
 "nbformat": 4,
 "nbformat_minor": 5
}
