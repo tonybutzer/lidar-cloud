{
 "cells": [
  {
   "cell_type": "code",
   "execution_count": 1,
   "id": "8ea7cd61",
   "metadata": {},
   "outputs": [
    {
     "name": "stdout",
     "output_type": "stream",
     "text": [
      "--2021-12-08 17:25:19--  https://graphics.stanford.edu/~mdfisher/Data/Meshes/bunny.obj\n",
      "Resolving graphics.stanford.edu (graphics.stanford.edu)... 171.67.77.70\n",
      "Connecting to graphics.stanford.edu (graphics.stanford.edu)|171.67.77.70|:443... connected.\n",
      "HTTP request sent, awaiting response... 200 OK\n",
      "Length: 205917 (201K) [text/plain]\n",
      "Saving to: ‘bunny.obj’\n",
      "\n",
      "bunny.obj           100%[===================>] 201.09K  1.29KB/s    in 2m 35s  \n",
      "\n",
      "2021-12-08 17:27:58 (1.29 KB/s) - ‘bunny.obj’ saved [205917/205917]\n",
      "\n"
     ]
    }
   ],
   "source": [
    "!wget https://graphics.stanford.edu/~mdfisher/Data/Meshes/bunny.obj"
   ]
  },
  {
   "cell_type": "markdown",
   "id": "51d5bf21",
   "metadata": {},
   "source": [
    "https://colab.research.google.com/drive/1CR_HDvJ2AnjJV3Bf5vwP70K0hx3RcdMb?usp=sharing#scrollTo=AAe7DdprqEO4"
   ]
  },
  {
   "cell_type": "code",
   "execution_count": 2,
   "id": "5c20864a",
   "metadata": {},
   "outputs": [
    {
     "name": "stdout",
     "output_type": "stream",
     "text": [
      "0_bunny_objects_plotly.ipynb  bunny.obj\r\n"
     ]
    }
   ],
   "source": [
    "!ls"
   ]
  },
  {
   "cell_type": "code",
   "execution_count": null,
   "id": "d52fdbaa",
   "metadata": {},
   "outputs": [
    {
     "name": "stdout",
     "output_type": "stream",
     "text": [
      "Collecting plotly\n",
      "  Downloading plotly-5.4.0-py2.py3-none-any.whl (25.3 MB)\n",
      "\u001b[K     |███████████▏                    | 8.8 MB 76 kB/s eta 0:03:388"
     ]
    }
   ],
   "source": [
    "!pip install --user plotly"
   ]
  },
  {
   "cell_type": "code",
   "execution_count": 13,
   "id": "7e56e961",
   "metadata": {},
   "outputs": [
    {
     "ename": "ModuleNotFoundError",
     "evalue": "No module named 'plotly'",
     "output_type": "error",
     "traceback": [
      "\u001b[0;31m---------------------------------------------------------------------------\u001b[0m",
      "\u001b[0;31mModuleNotFoundError\u001b[0m                       Traceback (most recent call last)",
      "\u001b[0;32m<ipython-input-13-b1a78fbeab14>\u001b[0m in \u001b[0;36m<module>\u001b[0;34m\u001b[0m\n\u001b[1;32m      1\u001b[0m \u001b[0;32mimport\u001b[0m \u001b[0mnumpy\u001b[0m \u001b[0;32mas\u001b[0m \u001b[0mnp\u001b[0m\u001b[0;34m\u001b[0m\u001b[0;34m\u001b[0m\u001b[0m\n\u001b[0;32m----> 2\u001b[0;31m \u001b[0;32mimport\u001b[0m \u001b[0mplotly\u001b[0m\u001b[0;34m\u001b[0m\u001b[0;34m\u001b[0m\u001b[0m\n\u001b[0m\u001b[1;32m      3\u001b[0m \u001b[0;32mimport\u001b[0m \u001b[0mplotly\u001b[0m\u001b[0;34m.\u001b[0m\u001b[0mgraph_objects\u001b[0m \u001b[0;32mas\u001b[0m \u001b[0mgo\u001b[0m\u001b[0;34m\u001b[0m\u001b[0;34m\u001b[0m\u001b[0m\n",
      "\u001b[0;31mModuleNotFoundError\u001b[0m: No module named 'plotly'"
     ]
    }
   ],
   "source": [
    "import numpy as np\n",
    "import plotly\n",
    "import plotly.graph_objects as go"
   ]
  },
  {
   "cell_type": "code",
   "execution_count": 8,
   "id": "9c99bd6b",
   "metadata": {},
   "outputs": [],
   "source": [
    "import open3d as o3d\n",
    "mesh = o3d.io.read_triangle_mesh(\"bunny.obj\")\n",
    "if mesh.is_empty(): exit()"
   ]
  },
  {
   "cell_type": "code",
   "execution_count": 9,
   "id": "d3119370",
   "metadata": {},
   "outputs": [],
   "source": [
    "if not mesh.has_vertex_normals(): mesh.compute_vertex_normals()\n",
    "if not mesh.has_triangle_normals(): mesh.compute_triangle_normals()"
   ]
  },
  {
   "cell_type": "code",
   "execution_count": 10,
   "id": "5cc01da9",
   "metadata": {},
   "outputs": [],
   "source": [
    "triangles = np.asarray(mesh.triangles)\n",
    "vertices = np.asarray(mesh.vertices)\n",
    "colors = None\n",
    "if mesh.has_triangle_normals():\n",
    "    colors = (0.5, 0.5, 0.5) + np.asarray(mesh.triangle_normals) * 0.5\n",
    "    colors = tuple(map(tuple, colors))\n",
    "else:\n",
    "    colors = (1.0, 0.0, 0.0)"
   ]
  },
  {
   "cell_type": "code",
   "execution_count": 11,
   "id": "d8610beb",
   "metadata": {},
   "outputs": [
    {
     "ename": "NameError",
     "evalue": "name 'go' is not defined",
     "output_type": "error",
     "traceback": [
      "\u001b[0;31m---------------------------------------------------------------------------\u001b[0m",
      "\u001b[0;31mNameError\u001b[0m                                 Traceback (most recent call last)",
      "\u001b[0;32m<ipython-input-11-7e791cae5f0e>\u001b[0m in \u001b[0;36m<module>\u001b[0;34m\u001b[0m\n\u001b[0;32m----> 1\u001b[0;31m fig = go.Figure(\n\u001b[0m\u001b[1;32m      2\u001b[0m     data=[\n\u001b[1;32m      3\u001b[0m         go.Mesh3d(\n\u001b[1;32m      4\u001b[0m             \u001b[0mx\u001b[0m\u001b[0;34m=\u001b[0m\u001b[0mvertices\u001b[0m\u001b[0;34m[\u001b[0m\u001b[0;34m:\u001b[0m\u001b[0;34m,\u001b[0m\u001b[0;36m0\u001b[0m\u001b[0;34m]\u001b[0m\u001b[0;34m,\u001b[0m\u001b[0;34m\u001b[0m\u001b[0;34m\u001b[0m\u001b[0m\n\u001b[1;32m      5\u001b[0m             \u001b[0my\u001b[0m\u001b[0;34m=\u001b[0m\u001b[0mvertices\u001b[0m\u001b[0;34m[\u001b[0m\u001b[0;34m:\u001b[0m\u001b[0;34m,\u001b[0m\u001b[0;36m1\u001b[0m\u001b[0;34m]\u001b[0m\u001b[0;34m,\u001b[0m\u001b[0;34m\u001b[0m\u001b[0;34m\u001b[0m\u001b[0m\n",
      "\u001b[0;31mNameError\u001b[0m: name 'go' is not defined"
     ]
    }
   ],
   "source": [
    "fig = go.Figure(\n",
    "    data=[\n",
    "        go.Mesh3d(\n",
    "            x=vertices[:,0],\n",
    "            y=vertices[:,1],\n",
    "            z=vertices[:,2],\n",
    "            i=triangles[:,0],\n",
    "            j=triangles[:,1],\n",
    "            k=triangles[:,2],\n",
    "            facecolor=colors,\n",
    "            opacity=0.50)\n",
    "    ],\n",
    "    layout=dict(\n",
    "        scene=dict(\n",
    "            xaxis=dict(visible=False),\n",
    "            yaxis=dict(visible=False),\n",
    "            zaxis=dict(visible=False)\n",
    "        )\n",
    "    )\n",
    ")\n",
    "fig.show()"
   ]
  },
  {
   "cell_type": "code",
   "execution_count": null,
   "id": "a6282db9",
   "metadata": {},
   "outputs": [],
   "source": []
  }
 ],
 "metadata": {
  "kernelspec": {
   "display_name": "Python 3",
   "language": "python",
   "name": "python3"
  },
  "language_info": {
   "codemirror_mode": {
    "name": "ipython",
    "version": 3
   },
   "file_extension": ".py",
   "mimetype": "text/x-python",
   "name": "python",
   "nbconvert_exporter": "python",
   "pygments_lexer": "ipython3",
   "version": "3.7.10"
  }
 },
 "nbformat": 4,
 "nbformat_minor": 5
}
